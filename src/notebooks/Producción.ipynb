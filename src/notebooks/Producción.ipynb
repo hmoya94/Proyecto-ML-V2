{
 "cells": [
  {
   "cell_type": "markdown",
   "metadata": {},
   "source": [
    "# Detectando Fumadores - Producción"
   ]
  },
  {
   "cell_type": "code",
   "execution_count": 2,
   "metadata": {},
   "outputs": [],
   "source": [
    "import streamlit as st\n",
    "import pandas as pd\n",
    "\n",
    "# Definir los rangos para los sliders basados en tu cuadro\n",
    "rangos = {\n",
    "    \"age\": (18.0, 120.0),\n",
    "    \"height(cm)\": (135.0, 210.0),\n",
    "    \"weight(kg)\": (30.0, 150.0),\n",
    "    \"waist(cm)\": (51.0, 127.0),\n",
    "    \"eyesight(left)\": (0.1, 9.9),\n",
    "    \"eyesight(right)\": (0.1, 9.9),\n",
    "    \"hearing(left)\": (1.0, 2.0), # Esto podría ser un selectbox ya que sólo tiene dos valores posibles\n",
    "    \"hearing(right)\": (1.0, 2.0), # Esto podría ser un selectbox por la misma razón\n",
    "    \"systolic\": (77.0, 213.0),\n",
    "    \"relaxation\": (44.0, 133.0),\n",
    "    \"fasting blood sugar\": (46.0, 375.0),\n",
    "    \"Cholesterol\": (77.0, 393.0),\n",
    "    \"triglyceride\": (8.0, 766.0),\n",
    "    \"HDL\": (9.0, 136.0),\n",
    "    \"LDL\": (1.0, 1860.0),\n",
    "    \"hemoglobin\": (4.9, 21.0),\n",
    "    \"Urine protein\": (1.0, 6.0), # Esto podría ser un selectbox ya que parece tener valores enteros discretos\n",
    "    \"serum creatinine\": (0.1, 9.9),\n",
    "    \"AST\": (6.0, 778.0),\n",
    "    \"ALT\": (1.0, 2914.0),\n",
    "    \"Gtp\": (2.0, 999.0),\n",
    "    \"IMC\": (10.0, 50.0), # Asumiendo que es un rango de valores continuos\n",
    "    \"HW_Ratio\": (1.0, 4.0),\n",
    "    \"HA_Ratio\": (1.0, 10.0)\n",
    "}\n",
    "\n",
    "# Checkbox para las variables categóricas\n",
    "categoricas = {\n",
    "    \"dental caries\": False,\n",
    "    \"smoking\": False\n",
    "}\n",
    "\n",
    "# Crear la interfaz\n",
    "with st.form(\"Formulario del fumador\"):\n",
    "    st.write(\"Introduce los valores para la predicción:\")\n",
    "    \n",
    "    # Crear un widget para cada variable numérica\n",
    "    variables = {}\n",
    "    for var, (min_val, max_val) in rangos.items():\n",
    "        # Calcula el valor medio del rango para usarlo como valor por defecto\n",
    "        default_val = (min_val + max_val) / 2.0\n",
    "        # El paso debe ser un valor con sentido para el rango de la variable\n",
    "        step = (max_val - min_val) / 100.0\n",
    "        variables[var] = st.slider(var, min_value=min_val, max_value=max_val, value=default_val, step=step)\n",
    "        \n",
    "    submitted = st.form_submit_button(\"Submit\")\n",
    "    if submitted:\n",
    "        st.write(\"Los valores ingresados son:\")\n",
    "        st.json(variables)\n",
    "        # Aquí iría la lógica para hacer la predicción usando los valores ingresados\n",
    "\n"
   ]
  },
  {
   "cell_type": "code",
   "execution_count": 3,
   "metadata": {},
   "outputs": [
    {
     "ename": "SyntaxError",
     "evalue": "invalid syntax (2773187961.py, line 1)",
     "output_type": "error",
     "traceback": [
      "\u001b[0;36m  Cell \u001b[0;32mIn[3], line 1\u001b[0;36m\u001b[0m\n\u001b[0;31m    streamlit hello\u001b[0m\n\u001b[0m              ^\u001b[0m\n\u001b[0;31mSyntaxError\u001b[0m\u001b[0;31m:\u001b[0m invalid syntax\n"
     ]
    }
   ],
   "source": [
    "streamlit hello"
   ]
  }
 ],
 "metadata": {
  "kernelspec": {
   "display_name": "entorno_proyecto",
   "language": "python",
   "name": "python3"
  },
  "language_info": {
   "codemirror_mode": {
    "name": "ipython",
    "version": 3
   },
   "file_extension": ".py",
   "mimetype": "text/x-python",
   "name": "python",
   "nbconvert_exporter": "python",
   "pygments_lexer": "ipython3",
   "version": "3.11.5"
  }
 },
 "nbformat": 4,
 "nbformat_minor": 2
}
