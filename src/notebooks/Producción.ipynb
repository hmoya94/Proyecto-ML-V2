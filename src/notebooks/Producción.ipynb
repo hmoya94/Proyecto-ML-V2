{
 "cells": [
  {
   "cell_type": "markdown",
   "metadata": {},
   "source": [
    "# Detectando Fumadores - Producción"
   ]
  },
  {
   "cell_type": "code",
   "execution_count": null,
   "metadata": {},
   "outputs": [],
   "source": [
    "import streamlit as st\n",
    "import pandas as pd\n",
    "\n",
    "# Título de la aplicación\n",
    "st.title('Detector de Fumadores')\n",
    "\n",
    "# Descripción o instrucciones de la aplicación\n",
    "st.write('Por favor, introduce los datos para la detección o sube un archivo CSV.')\n",
    "\n",
    "# Creación de entradas para que el usuario pueda introducir datos\n",
    "age = st.number_input('Edad', min_value=18, max_value=100, step=1)\n",
    "height = st.number_input('Altura en cm', min_value=100, max_value=250, step=1)\n",
    "# Agrega aquí más entradas según los features de tu modelo...\n",
    "\n",
    "# Opción para que el usuario suba un CSV\n",
    "uploaded_file = st.file_uploader(\"O sube un CSV con los datos\", type=['csv'])\n",
    "\n",
    "# Cuando se sube un archivo, se lee con Pandas\n",
    "if uploaded_file is not None:\n",
    "    data = pd.read_csv(uploaded_file)\n",
    "    st.write(data)  # Visualiza los datos en la aplicación\n",
    "\n",
    "# Botón para realizar la predicción\n",
    "if st.button('Realizar Predicción'):\n",
    "    # Aquí deberías cargar tu modelo y hacer la predicción con los datos ingresados\n",
    "    # Por ejemplo:\n",
    "    # model = cargar_modelo()\n",
    "    # prediction = model.predict(datos)\n",
    "    # st.write('La predicción es:', prediction)\n",
    "    pass\n",
    "\n",
    "# Ejecuta esto para correr tu aplicación: streamlit run app.py\n",
    "\n"
   ]
  }
 ],
 "metadata": {
  "language_info": {
   "name": "python"
  }
 },
 "nbformat": 4,
 "nbformat_minor": 2
}
